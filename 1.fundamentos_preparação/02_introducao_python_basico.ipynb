{
 "cells": [
  {
   "cell_type": "markdown",
   "id": "599d924c",
   "metadata": {},
   "source": [
    "## Primeiro vamos aprender o básico da linguagem"
   ]
  },
  {
   "cell_type": "markdown",
   "id": "07fc53f1",
   "metadata": {},
   "source": [
    "### Variáveis"
   ]
  },
  {
   "cell_type": "code",
   "execution_count": null,
   "id": "b53a75b3",
   "metadata": {},
   "outputs": [
    {
     "name": "stdout",
     "output_type": "stream",
     "text": [
      "1000\n",
      "<class 'int'>\n",
      "<class 'str'>\n"
     ]
    }
   ],
   "source": [
    "# Comentários em python começam com o símbolo `#`\n",
    "# Você pode usar `#` para adicionar comentários explicativos no seu código.\n",
    "\n",
    "# python funciona pela indentação, ou seja, a forma como você organiza o código com espaços em branco.\n",
    "# É importante manter a indentação correta para que o código funcione como esperado.\n",
    "\n",
    "    # a = 10 este código não vai funcionar, pois a indentação está errada\n",
    "# o correto seria:\n",
    "a = 10  # Este código está correto, pois não há indentação desnecessária, falaremos mais sobre isso depois\n",
    "\n",
    "\n",
    "# Vamos começar pelas variáveis, que são usadas para armazenar valores.\n",
    "\n",
    "salario = 1000  # Atribuindo o valor 1000 à variável salario\n",
    "# Você pode imprimir o valor de uma variável usando a função print()\n",
    "print(salario)  # Isso vai exibir o valor de salario no console\n",
    "\n",
    "# As variáveis podem ser de diferentes tipos, como números inteiros, strings (texto), listas, dicionários, etc.\n",
    "# Aqui estão alguns exemplos de variáveis de diferentes tipos:\n",
    "\n",
    "nome = \"João\"  # String (texto)\n",
    "idade = 30  # Inteiro (número)\n",
    "altura = 1.75  # Float (número com ponto decimal)\n",
    "choveu = True  # Booleano (verdadeiro ou falso)\n",
    "\n",
    "# Existem regras para nomear variáveis:\n",
    "# - Não podem começar com números.\n",
    "# - Não podem conter espaços.\n",
    "# - Não podem usar caracteres especiais, exceto o sublinhado (_).\n",
    "# - São sensíveis a maiúsculas e minúsculas (por exemplo, salario e Salario são diferentes).\n",
    "# - Não iniciar com letras maiúsculas pra não confundir com classes\n",
    "\n",
    "# caso queira saber o tipo de uma variável, você pode usar a função type()\n",
    "print(type(salario))  # Isso vai exibir <class 'int'>\n",
    "print(type(nome))  # Isso vai exibir <class 'str'>\n",
    "\n",
    "\n",
    "\n",
    "\n"
   ]
  },
  {
   "cell_type": "markdown",
   "id": "007157b4",
   "metadata": {},
   "source": [
    "### Estruturas de dados"
   ]
  },
  {
   "cell_type": "markdown",
   "id": "264e7f63",
   "metadata": {},
   "source": [
    "#### Listas\n",
    " Usadas para armazenar múltiplos valores em uma única variável.\n"
   ]
  },
  {
   "cell_type": "code",
   "execution_count": null,
   "id": "4fdc2294",
   "metadata": {},
   "outputs": [
    {
     "name": "stdout",
     "output_type": "stream",
     "text": [
      "1\n",
      "4\n",
      "2\n",
      "[[1, 2, 3], [4, 5, 6], [7, 8, 9]]\n",
      "[2, 4, 5, 6]\n"
     ]
    }
   ],
   "source": [
    "# listas ou vetores\n",
    "# Listas são usadas para armazenar múltiplos valores em uma única variável.\n",
    "lista_de_numeros = [1, 2, 3, 4, 5]  # Lista de números\n",
    "\n",
    "# Você pode acessar os elementos da lista usando índices, que começam em 0.\n",
    "print(lista_de_numeros[0])  # Isso vai exibir o primeiro elemento da\n",
    "# lista, que é 1\n",
    "\n",
    "# Você também pode adicionar elementos à lista usando o método append()\n",
    "lista_de_numeros.append(6)  # Adiciona o número 6 à lista\n",
    "\n",
    "# Você pode remover elementos da lista usando o método remove()\n",
    "lista_de_numeros.remove(3)  # Remove o número 3 da lista\n",
    "lista_de_numeros.pop(0)  # Remove o primeiro elemento da lista (1)\n",
    "\n",
    "# Você pode verificar o tamanho da lista usando a função len()\n",
    "print(len(lista_de_numeros))  # Isso vai exibir o tamanho da lista, que é 6 agora\n",
    "\n",
    "# Listas podem conter diferentes tipos de dados, como números, strings, etc.\n",
    "lista_mista = [1, \"dois\", 3.0, True]\n",
    "\n",
    "# listas de listas, ou matrizes\n",
    "matriz = [\n",
    "    [1, 2, 3],\n",
    "    [4, 5, 6],\n",
    "    [7, 8, 9]\n",
    "]  # Matriz 3x3\n",
    "# Você pode acessar elementos da matriz usando dois índices\n",
    "print(matriz[0][1])  # Isso vai exibir o elemento na primeira linha e segunda coluna, que é 2\n",
    "\n",
    "# a ordem dos elementeso em uma lista é garantida, então você pode contar com a ordem dos elementos\n",
    "[1, 2, 3] == [3, 2, 1]  # Isso vai ser False, pois a ordem é diferente\n",
    "\n",
    "# exibe as variáveis completas\n",
    "print(matriz)\n",
    "print(lista_de_numeros)"
   ]
  },
  {
   "cell_type": "markdown",
   "id": "042a82a3",
   "metadata": {},
   "source": [
    "\n",
    "#### Set ou conjuntos\n",
    "Serve para armazenar valores únicos, sem duplicatas."
   ]
  },
  {
   "cell_type": "code",
   "execution_count": null,
   "id": "695d6fd4",
   "metadata": {},
   "outputs": [],
   "source": [
    "# set ou conjuntos\n",
    "# Conjuntos são usados para armazenar valores únicos, sem duplicatas.\n",
    "conjunto_de_numeros = {1, 2, 3, 4, 5}  # Conjunto de números\n",
    "\n",
    "# Você pode adicionar elementos ao conjunto usando o método add()\n",
    "conjunto_de_numeros.add(6)  # Adiciona o número 6 ao conjunto\n",
    "\n",
    "# Você pode remover elementos do conjunto usando o método remove()\n",
    "conjunto_de_numeros.remove(3)  # Remove o número 3 do conjunto\n",
    "\n",
    "# Você pode verificar se um elemento está no conjunto usando o operador in\n",
    "print(2 in conjunto_de_numeros)  # Isso vai exibir True, pois 2 está no conjunto\n",
    "\n",
    "# se colocar valores repetidos, ele vai ignorar\n",
    "conjunto_repetido = {1, 2, 2, 3}\n",
    "print(conjunto_repetido)  # Isso vai exibir {1, 2, 3}\n",
    "\n",
    "# a ordem dos elementos em um conjunto não é garantida, então não se preocupe com a ordem\n",
    "{1, 2, 3} == {3, 2, 1}  # Isso vai ser True, pois os conjuntos são iguais"
   ]
  },
  {
   "cell_type": "markdown",
   "id": "73647126",
   "metadata": {},
   "source": [
    "#### Tuplas\n",
    " Servem para armazenar múltiplos valores em uma única variável, assim como as listas, porém, são imutáveis (não podem ser modificadas após a criação)."
   ]
  },
  {
   "cell_type": "code",
   "execution_count": null,
   "id": "d186681b",
   "metadata": {},
   "outputs": [],
   "source": [
    "tupla = (1, 2, 3)  # Tupla de números\n",
    "# Tuplas são semelhantes às listas, mas são imutáveis (não podem ser modificadas após a criação).\n",
    "# Você pode acessar os elementos da tupla usando índices, que começam em 0.\n",
    "print(tupla[0])  # Isso vai exibir o primeiro elemento da tupla, que é 1\n",
    "\n",
    "# Você pode verificar o tamanho da tupla usando a função len()\n",
    "print(len(tupla))  # Isso vai exibir o tamanho da tupla\n",
    "\n",
    "\n",
    "#   Tuplas são úteis quando você quer economizar memória ou garantir que os dados não sejam alterados.\n",
    "# ao declarar listas, é alocada memória extra para permitir adições futuras\n",
    "# ao declarar tuplas, a memória é alocada exatamente para o tamanho da tupla, sem espaço extra"
   ]
  },
  {
   "cell_type": "markdown",
   "id": "105796b0",
   "metadata": {},
   "source": [
    "#### Dicionários\n",
    "Serve para armazenar pares de chave-valor.\n"
   ]
  },
  {
   "cell_type": "code",
   "execution_count": null,
   "id": "76bca890",
   "metadata": {},
   "outputs": [
    {
     "name": "stdout",
     "output_type": "stream",
     "text": [
      "João\n",
      "banana\n"
     ]
    }
   ],
   "source": [
    "dicionario ={\n",
    "    \"nome\": \"João\",  # Chave \"nome\" com valor \"João\"\n",
    "    \"idade\": 30,     # Chave \"idade\" com valor 30\n",
    "    \"altura\": 1.75 ,  # Chave \"altura\" com valor 1.75\n",
    "    \"fruit\":\"banana\" # chave fruit com valor banana\n",
    "}\n",
    "\n",
    "# semelhante ao objeto JSON em JavaScript\n",
    "# Você pode acessar os valores do dicionário usando as chaves\n",
    "print(dicionario[\"nome\"])  # Isso vai exibir \"João\"\n",
    "print (dicionario[\"fruit\"])  # Isso vai exibir \"banana\"\n",
    "\n",
    "# chaves são unicas, então se você definir a mesma chave novamente, o valor será atualizado\n",
    "dicionario[\"nome\"] = \"Maria\"  # Atualiza o valor da chave \"nome\" para \"Maria\""
   ]
  },
  {
   "cell_type": "markdown",
   "id": "a5868e97",
   "metadata": {},
   "source": [
    "## Operações"
   ]
  },
  {
   "cell_type": "code",
   "execution_count": null,
   "id": "7af6ac7a",
   "metadata": {},
   "outputs": [],
   "source": [
    "#  temos +, - *, /, // (divisão inteira), % (módulo), ** (exponenciação)\n",
    "#  operadores de comparação: ==, !=, >, <, >=, <=\n",
    "\n",
    "# exemplos de operações\n",
    "print(1 + 1)  # Soma\n",
    "print(2 - 1)  # Subtração\n",
    "print(2 * 2)  # Multiplicação\n",
    "print(4 / 2)  # Divisão\n",
    "print(5 // 2) # Divisão inteira\n",
    "print(5 % 2)  # Módulo (resto da divisão)\n",
    "print(2 ** 3) # Exponenciação\n",
    "\n",
    "# exemplos de operadores de comparação\n",
    "print(1 == 1) # Igual\n",
    "print(1 != 2) # Diferente\n",
    "print(2 > 1)  # Maior que\n",
    "print(1 < 2)  # Menor que\n",
    "print(2 >= 2) # Maior ou igual a\n",
    "print(1 <= 2) # Menor ou igual a\n",
    "\n",
    "# é possive realizar operações com strings\n",
    "print(\"Olá, \" + \"mundo!\")  # Concatenação de strings\n",
    "print(\"Repetir! \" * 3)  # Repetição de strings"
   ]
  },
  {
   "cell_type": "markdown",
   "id": "abe9c5d5",
   "metadata": {},
   "source": [
    "### Operadores lógicos"
   ]
  },
  {
   "cell_type": "markdown",
   "id": "b3ae3f5d",
   "metadata": {},
   "source": [
    "| Operador | Expressão 1 | Expressão 2 | Resultado |\n",
    "|---|---|---|---|\n",
    "| `and` | `True` | `True` | `True` |\n",
    "| `and` | `True` | `False` | `False` |\n",
    "| `and` | `False` | `True` | `False` |\n",
    "| `and` | `False` | `False` | `False` |\n",
    "| `or` | `True` | `True` | `True` |\n",
    "| `or` | `True` | `False` | `True` |\n",
    "| `or` | `False` | `True` | `True` |\n",
    "| `or` | `False` | `False` | `False` |\n",
    "| `not` | `True` |  | `False` |\n",
    "| `not` | `False` |  | `True` |\n"
   ]
  },
  {
   "cell_type": "code",
   "execution_count": null,
   "id": "44d577ca",
   "metadata": {},
   "outputs": [],
   "source": [
    "# operadores lógicos servem para combinar expressões booleanas\n",
    "# e, ou, não\n",
    "# and, or, not\n",
    "# existe a tabela verdade para nos auxiliar a entender os operadores lógicos, que está aqui acima\n",
    "\n",
    "# operadores lógicos retornam booleanos\n",
    "print(True and False)  # Isso vai exibir False\n",
    "print(True or False)   # Isso vai exibir True\n",
    "print(not True)        # Isso vai exibir False\n",
    "\n",
    "# operadores lógicos são usados para controle de fluxo, que veremos futuramente\n",
    "\n",
    "# temos ainda o in e o not in que são operadores de associação\n",
    "# in verifica se um valor está presente em uma coleção (lista, conjunto, tupla, dicionário, string)\n",
    "# not in verifica se um valor não está presente em uma coleção\n",
    "print(2 in [1, 2, 3])  # Isso vai exibir True, pois 2 está na lista\n",
    "print(4 not in [1, 2, 3])  # Isso vai exibir True, pois 4 não está na lista\n",
    "print(\"a\" in \"banana\")  # Isso vai exibir True, pois \"a\" está na string \"banana\"\n",
    "print(\"x\" not in \"banana\")  # Isso vai exibir True, pois \"x\" não está na string \"banana\"\n"
   ]
  },
  {
   "cell_type": "markdown",
   "id": "646427c0",
   "metadata": {},
   "source": [
    "## Fluxo de controle"
   ]
  },
  {
   "cell_type": "markdown",
   "id": "04bfddb9",
   "metadata": {},
   "source": [
    "### If else\n"
   ]
  },
  {
   "cell_type": "code",
   "execution_count": null,
   "id": "d69be741",
   "metadata": {},
   "outputs": [],
   "source": [
    "# estrutura de controle é usada para controlar o fluxo de execução do código\n",
    "# Existem várias estruturas de controle em Python, como if, for, while, etc.\n",
    "# if é usado para executar um bloco de código se uma condição for verdadeira\n",
    "# else é usado para executar um bloco de código se a condição for falsa\n",
    "if salario > 2000:\n",
    "    print(\"Salário alto\")\n",
    "else:\n",
    "    print(\"Salário baixo\")\n",
    "    \n",
    "# elif é usado para verificar múltiplas condições\n",
    "if salario > 2000:\n",
    "    print(\"Salário alto\")\n",
    "elif salario > 1000:\n",
    "    print(\"Salário médio\")\n",
    "else:\n",
    "    print(\"Salário baixo\")\n",
    "\n",
    "# podemos usar operadores lógicos para combinar condições\n",
    "if salario > 2000 and idade > 30:\n",
    "    print(\"Salário alto e idade acima de 30\")\n",
    "\n",
    "    \n",
    "# para estruturas condicionais também temos o match case em python 3.10+\n",
    "dia = 4\n",
    "match dia:\n",
    "    case 1:\n",
    "        print(\"Domingo\")\n",
    "    case 2:\n",
    "        print(\"Segunda-feira\")\n",
    "    case 3:\n",
    "        print(\"Terça-feira\")\n",
    "    case 4:\n",
    "        print(\"Quarta-feira\")\n",
    "    case 5:\n",
    "        print(\"Quinta-feira\")\n",
    "    case 6:\n",
    "        print(\"Sexta-feira\")\n",
    "    case 7:\n",
    "        print(\"Sábado\")\n",
    "    case _:\n",
    "        print(\"Dia inválido\")"
   ]
  },
  {
   "cell_type": "markdown",
   "id": "6bf135ff",
   "metadata": {},
   "source": [
    "### Loops"
   ]
  },
  {
   "cell_type": "markdown",
   "id": "ede35077",
   "metadata": {},
   "source": [
    "## Funções\n"
   ]
  },
  {
   "cell_type": "markdown",
   "id": "e83d3fed",
   "metadata": {},
   "source": [
    "## Classes e objetos \n"
   ]
  },
  {
   "cell_type": "markdown",
   "id": "cf36c1d2",
   "metadata": {},
   "source": [
    "## Exercícios deste aula"
   ]
  }
 ],
 "metadata": {
  "kernelspec": {
   "display_name": "venv (3.13.3)",
   "language": "python",
   "name": "python3"
  },
  "language_info": {
   "codemirror_mode": {
    "name": "ipython",
    "version": 3
   },
   "file_extension": ".py",
   "mimetype": "text/x-python",
   "name": "python",
   "nbconvert_exporter": "python",
   "pygments_lexer": "ipython3",
   "version": "3.13.3"
  }
 },
 "nbformat": 4,
 "nbformat_minor": 5
}
